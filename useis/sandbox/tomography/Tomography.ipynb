{
 "cells": [
  {
   "cell_type": "code",
   "execution_count": 12,
   "id": "416dcc66",
   "metadata": {},
   "outputs": [],
   "source": [
    "from uquake.grid.nlloc import VelocityGrid3D\n",
    "import numpy as np\n",
    "import scipy as sp"
   ]
  },
  {
   "cell_type": "code",
   "execution_count": 7,
   "id": "c4114536",
   "metadata": {},
   "outputs": [],
   "source": [
    "# Grid parameters \n",
    "network_code = 'test'\n",
    "spacing = [10, 10, 10]\n",
    "origin = [0, 0, 0]\n",
    "dimensions = [100, 100, 100]"
   ]
  },
  {
   "cell_type": "code",
   "execution_count": 13,
   "id": "464e7ae6",
   "metadata": {},
   "outputs": [],
   "source": [
    "velocity = VelocityGrid3D(network_code, dimensions, origin, spacing)\n",
    "velocity.data = np.random.randn(dimensions[0], \n",
    "                                dimensions[1], \n",
    "                                dimensions[2]) * 5000\n",
    "velocity.data = sp.ndimage.gaussian_filter(velocity.data, sigma=3)"
   ]
  },
  {
   "cell_type": "code",
   "execution_count": null,
   "id": "a244beb9",
   "metadata": {},
   "outputs": [],
   "source": []
  }
 ],
 "metadata": {
  "kernelspec": {
   "display_name": "Python 3 (ipykernel)",
   "language": "python",
   "name": "python3"
  },
  "language_info": {
   "codemirror_mode": {
    "name": "ipython",
    "version": 3
   },
   "file_extension": ".py",
   "mimetype": "text/x-python",
   "name": "python",
   "nbconvert_exporter": "python",
   "pygments_lexer": "ipython3",
   "version": "3.9.7"
  }
 },
 "nbformat": 4,
 "nbformat_minor": 5
}
