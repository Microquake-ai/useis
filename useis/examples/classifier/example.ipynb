{
 "cells": [
  {
   "cell_type": "markdown",
   "id": "83cb623d",
   "metadata": {},
   "source": [
    "   # Classifier usage example"
   ]
  },
  {
   "cell_type": "markdown",
   "id": "14f96bc5",
   "metadata": {},
   "source": [
    "## Library imports"
   ]
  },
  {
   "cell_type": "code",
   "execution_count": 1,
   "id": "2ebee1c9",
   "metadata": {},
   "outputs": [],
   "source": [
    "from useis.processors import classifier2\n",
    "from useis.ai import model\n",
    "from importlib import reload\n",
    "from uquake.core.inventory import Inventory"
   ]
  },
  {
   "cell_type": "markdown",
   "id": "e5a05877",
   "metadata": {},
   "source": [
    "## Creating the classifier project"
   ]
  },
  {
   "cell_type": "code",
   "execution_count": 2,
   "id": "579974cd",
   "metadata": {},
   "outputs": [
    {
     "name": "stderr",
     "output_type": "stream",
     "text": [
      "2023-04-16 14:31:16.071 | INFO     | useis.core.project_manager:__init__:201 - .\n",
      "2023-04-16 14:31:16.072 | INFO     | useis.core.project_manager:__init__:201 - classification/test\n",
      "2023-04-16 14:31:16.072 | INFO     | useis.core.project_manager:__init__:201 - archives\n",
      "2023-04-16 14:31:16.073 | INFO     | useis.core.project_manager:__init__:201 - classification/test/inventory\n",
      "2023-04-16 14:31:16.073 | INFO     | useis.core.project_manager:__init__:201 - classification/test/config\n",
      "2023-04-16 14:31:16.074 | INFO     | useis.core.project_manager:__init__:201 - classification/test/velocities\n",
      "2023-04-16 14:31:16.074 | INFO     | useis.core.project_manager:__init__:201 - classification/test/times\n",
      "2023-04-16 14:31:16.075 | INFO     | useis.core.project_manager:__init__:201 - classification/test/hdf5_times\n",
      "2023-04-16 14:31:16.075 | INFO     | useis.core.project_manager:__init__:201 - classification/test/ai_models\n",
      "2023-04-16 14:31:16.076 | INFO     | useis.core.project_manager:__init__:201 - classification/test/debug\n",
      "2023-04-16 14:31:16.076 | INFO     | useis.core.project_manager:__init__:201 - classification/test/index\n",
      "2023-04-16 14:31:16.077 | INFO     | useis.core.project_manager:__init__:201 - classification/test/databases\n",
      "2023-04-16 14:31:16.435 | WARNING  | useis.core.project_manager:__init__:242 - [Errno 2] No such file or directory: 'classification/test/velocities/TEST.P.mod.hdr'\n",
      "2023-04-16 14:31:16.439 | WARNING  | useis.core.project_manager:__init__:249 - [Errno 2] No such file or directory: 'classification/test/velocities/TEST.S.mod.hdr'\n",
      "2023-04-16 14:31:16.746 | INFO     | useis.ai.model:__init__:74 - GPU will be used\n",
      "2023-04-16 14:31:18.147 | INFO     | useis.processors.classifier:__init__:230 - .\n",
      "2023-04-16 14:31:18.148 | INFO     | useis.processors.classifier:__init__:230 - classification/test\n",
      "2023-04-16 14:31:18.148 | INFO     | useis.processors.classifier:__init__:230 - archives\n",
      "2023-04-16 14:31:18.149 | INFO     | useis.processors.classifier:__init__:230 - classification/test/inventory\n",
      "2023-04-16 14:31:18.149 | INFO     | useis.processors.classifier:__init__:230 - classification/test/config\n",
      "2023-04-16 14:31:18.150 | INFO     | useis.processors.classifier:__init__:230 - classification/test/velocities\n",
      "2023-04-16 14:31:18.150 | INFO     | useis.processors.classifier:__init__:230 - classification/test/times\n",
      "2023-04-16 14:31:18.151 | INFO     | useis.processors.classifier:__init__:230 - classification/test/hdf5_times\n",
      "2023-04-16 14:31:18.151 | INFO     | useis.processors.classifier:__init__:230 - classification/test/ai_models\n",
      "2023-04-16 14:31:18.151 | INFO     | useis.processors.classifier:__init__:230 - classification/test/debug\n",
      "2023-04-16 14:31:18.152 | INFO     | useis.processors.classifier:__init__:230 - classification/test/index\n",
      "2023-04-16 14:31:18.152 | INFO     | useis.processors.classifier:__init__:230 - classification/test/databases\n",
      "2023-04-16 14:31:18.152 | INFO     | useis.processors.classifier:__init__:230 - classification/test/classifier_training_files\n",
      "2023-04-16 14:31:18.371 | INFO     | useis.ai.model:__init__:77 - The CPU will be used\n"
     ]
    }
   ],
   "source": [
    "project_directory = '.'  # creates the project in the current directory\n",
    "project_name = 'classification'\n",
    "network_name = 'test'\n",
    "\n",
    "event_classifier = classifier.Classifier(project_directory, project_name, network_name, gpu=False)"
   ]
  },
  {
   "cell_type": "markdown",
   "id": "4035e310",
   "metadata": {},
   "source": [
    "## Downloading and adding the model and inventory to the project"
   ]
  },
  {
   "cell_type": "code",
   "execution_count": 3,
   "id": "86b0a1b7",
   "metadata": {},
   "outputs": [],
   "source": [
    "reload(model)\n",
    "\n",
    "if event_classifier.event_classifier is None:\n",
    "    classifier_model = model.EventClassifier.load()\n",
    "    event_classifier.add_model(classifier_model)\n",
    "\n",
    "if event_classifier.inventory is None:\n",
    "    inventory = Inventory.from_url('https://www.dropbox.com/s/t1obz8z70th1jf9/inventory.xml?dl=1')\n",
    "    event_classifier.add_inventory(inventory)\n"
   ]
  },
  {
   "cell_type": "markdown",
   "id": "fe89271c",
   "metadata": {},
   "source": [
    "## Downloading and saving the test data"
   ]
  },
  {
   "cell_type": "code",
   "execution_count": null,
   "id": "9aaa6d4f",
   "metadata": {},
   "outputs": [],
   "source": []
  }
 ],
 "metadata": {
  "kernelspec": {
   "display_name": "Python 3 (ipykernel)",
   "language": "python",
   "name": "python3"
  },
  "language_info": {
   "codemirror_mode": {
    "name": "ipython",
    "version": 3
   },
   "file_extension": ".py",
   "mimetype": "text/x-python",
   "name": "python",
   "nbconvert_exporter": "python",
   "pygments_lexer": "ipython3",
   "version": "3.9.16"
  }
 },
 "nbformat": 4,
 "nbformat_minor": 5
}
